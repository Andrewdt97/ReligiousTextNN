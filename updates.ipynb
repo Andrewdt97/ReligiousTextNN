{
 "cells": [
  {
   "cell_type": "markdown",
   "metadata": {},
   "source": [
    "## Updates\n",
    "After the walk-through, I implemented a LSTM with a sequence of data as opposed to a one-hot encoded bag of words. I looked into seperating inter and intra religious texts into two corpuses with two models, but as I collected data, only Christians seem to like to write about other religions and put it on the internet. Finding enough data to be able to learn on was difficult and for the deadline of this project was not going to be a reastic goal."
   ]
  }
 ],
 "metadata": {
  "kernelspec": {
   "display_name": "Python 3",
   "language": "python",
   "name": "python3"
  },
  "language_info": {
   "codemirror_mode": {
    "name": "ipython",
    "version": 3
   },
   "file_extension": ".py",
   "mimetype": "text/x-python",
   "name": "python",
   "nbconvert_exporter": "python",
   "pygments_lexer": "ipython3",
   "version": "3.5.2"
  }
 },
 "nbformat": 4,
 "nbformat_minor": 2
}
